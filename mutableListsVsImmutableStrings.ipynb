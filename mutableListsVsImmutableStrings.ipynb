{
 "cells": [
  {
   "cell_type": "markdown",
   "metadata": {},
   "source": [
    "## PYTHON OBJECTS: MUTABLE VS. IMMUTABLE\n",
    "\n",
    "Not all python objects handle changes the same way. Some objects are mutable, meaning they can be altered.  Others are immutable; they cannot be changed but rather return new objects when attempting to update. \n",
    "\n",
    "What does this mean when writing python code?\n",
    "\n",
    "MUTABILITY OF COMMON TYPES\n",
    "The following are some immutable objects:\n",
    "``` python\n",
    "int\n",
    "\n",
    "float\n",
    "\n",
    "bool\n",
    "\n",
    "string\n",
    "\n",
    "tuple\n",
    "```\n",
    "The following are some mutable objects:\n",
    "```python\n",
    "list\n",
    "\n",
    "dict\n",
    "\n",
    "set\n",
    "```\n",
    "\n",
    "\n"
   ]
  },
  {
   "cell_type": "markdown",
   "metadata": {},
   "source": [
    "## WHEN MUTABILITY MATTERS\n",
    "\n",
    "It is essential to understand mutability when writing an efficient programs For instance, the following code is a straightforward solution to concatenate a string together:"
   ]
  },
  {
   "cell_type": "code",
   "execution_count": 1,
   "metadata": {},
   "outputs": [
    {
     "name": "stdout",
     "output_type": "stream",
     "text": [
      "0123456789\n"
     ]
    }
   ],
   "source": [
    "string_build = \"\"\n",
    "for i in range(10):\n",
    "    string_build += str(i)\n",
    "\n",
    "print(string_build)"
   ]
  },
  {
   "cell_type": "markdown",
   "metadata": {},
   "source": [
    "In reality, this is very inefficient. Because strings are **immutable**, concatenating two strings together actually creates a third string which is the combination of the previous two. If you are iterating a lot and building a large string, you will waste a lot of memory creating and throwing away objects."
   ]
  },
  {
   "cell_type": "code",
   "execution_count": 2,
   "metadata": {},
   "outputs": [
    {
     "name": "stdout",
     "output_type": "stream",
     "text": [
      "\n",
      "made a new string, no. 1\n",
      "0\n",
      "made a new string, no. 2\n",
      "01\n",
      "made a new string, no. 3\n",
      "012\n",
      "made a new string, no. 4\n",
      "0123\n",
      "made a new string, no. 5\n",
      "01234\n",
      "made a new string, no. 6\n",
      "012345\n",
      "made a new string, no. 7\n",
      "0123456\n",
      "made a new string, no. 8\n",
      "01234567\n",
      "made a new string, no. 9\n",
      "012345678\n",
      "made a new string, no. 10\n",
      "final string: 0123456789\n"
     ]
    }
   ],
   "source": [
    "string_build = \"\"\n",
    "for i in range(10):\n",
    "    print(string_build)\n",
    "    string_build += str(i)\n",
    "    print(\"made a new string, no.\",i+1)\n",
    "    \n",
    "\n",
    "print(\"final string:\", string_build)"
   ]
  },
  {
   "cell_type": "markdown",
   "metadata": {},
   "source": [
    "## Lists are mutable\n",
    "\n",
    "The following is a more efficient.\n",
    "\n",
    "This code takes advantage of the mutability of a single list object to gather your data together and then allocate a single result string to put your data in. That cuts down on the total number of objects allocated by almost half."
   ]
  },
  {
   "cell_type": "code",
   "execution_count": 7,
   "metadata": {},
   "outputs": [
    {
     "name": "stdout",
     "output_type": "stream",
     "text": [
      "['0', '1', '2', '3', '4', '5', '6', '7', '8', '9']\n",
      "0123456789\n"
     ]
    }
   ],
   "source": [
    "builder_list = []\n",
    "for i in range(10):\n",
    "    builder_list.append(str(i))\n",
    "myStr = \"\".join(builder_list)\n",
    "\n",
    "print(builder_list)\n",
    "print(myStr)"
   ]
  },
  {
   "cell_type": "markdown",
   "metadata": {},
   "source": [
    "## CONCLUSION\n",
    "\n",
    "Mutability matters. Learn it. Primitive-like types are probably immutable. Container-like types are probably mutable\n"
   ]
  },
  {
   "cell_type": "markdown",
   "metadata": {},
   "source": [
    "## EXERCISE: \n",
    "\n",
    "Assume you have these data types/ data structures:\n",
    "\n"
   ]
  },
  {
   "cell_type": "code",
   "execution_count": 9,
   "metadata": {},
   "outputs": [],
   "source": [
    "myString = \"abcdefg\"\n",
    "myList =[\"a\", \"b\", \"c\", \"d\", \"e\"]"
   ]
  },
  {
   "cell_type": "markdown",
   "metadata": {},
   "source": [
    "Is this python statement allowed?  Why? Why not? What error message is given if one is?\n",
    "``` python\n",
    "\n",
    "myString[5] =\"x\"\n",
    " \n",
    "myList[4] = \"y\"\n",
    "```\n"
   ]
  },
  {
   "cell_type": "markdown",
   "metadata": {},
   "source": [
    "How many copies of the same string variable (myString) are created in this piece of code?\n",
    "```python\n",
    "myString=\"\"\n",
    "for i in range(10):\n",
    "\tif i % 2 == 0:\n",
    "myString+=str(i)\n",
    "```"
   ]
  },
  {
   "cell_type": "markdown",
   "metadata": {},
   "source": [
    "What is the final string that the code above creates?\n",
    "\n",
    "``` myString = ```\n"
   ]
  },
  {
   "cell_type": "markdown",
   "metadata": {},
   "source": [
    "## So, the lesson is: \n",
    "\n",
    "convert a string into a list, do whatever you need to do, change the list back into a string…\n",
    "\n"
   ]
  },
  {
   "cell_type": "code",
   "execution_count": 12,
   "metadata": {},
   "outputs": [],
   "source": [
    "myString = \"abcdefg\"\n",
    "#use the list function to create [\"a\", \"b\", \"c\", \"d\", \"e\"] \n",
    "myList = list(myString) \n",
    "#do your stuff here with a list\n",
    "\n",
    "\n",
    "#convert the list back into a string\n",
    "myString = \"\".join(myList)"
   ]
  },
  {
   "cell_type": "markdown",
   "metadata": {},
   "source": [
    "## EXERCISE - string password\n",
    "\n",
    "Use the code above to create a strong password from 3 words the user inputs\n",
    "\n",
    "User input -> apple car washing\n",
    "\n",
    "String password output -> Appl3CarWa5h1ng15\n",
    "\n",
    "### Algorithm:\n",
    "\n",
    "- Capitalize each word (rest of letters are lowercase)\n",
    "- Concatenate 3 words\n",
    "- I/i’s become 1s\n",
    "- E/e’s become 3s\n",
    "- S/s’s become 5s\n",
    "- The length of the three words gets added to end\n"
   ]
  },
  {
   "cell_type": "code",
   "execution_count": 13,
   "metadata": {},
   "outputs": [
    {
     "ename": "IndentationError",
     "evalue": "expected an indented block (<ipython-input-13-7c8975fe2ab9>, line 21)",
     "output_type": "error",
     "traceback": [
      "\u001b[0;36m  File \u001b[0;32m\"<ipython-input-13-7c8975fe2ab9>\"\u001b[0;36m, line \u001b[0;32m21\u001b[0m\n\u001b[0;31m    strongPassword = \"\".join(myList)\u001b[0m\n\u001b[0m                 ^\u001b[0m\n\u001b[0;31mIndentationError\u001b[0m\u001b[0;31m:\u001b[0m expected an indented block\n"
     ]
    }
   ],
   "source": [
    "# user inputs 3 words\n",
    "\n",
    "# Capitalize each word (rest of letters are lowercase)\n",
    "\n",
    "# Concatenate 3 words\n",
    "weakPassword = word1 + word2 + word3\n",
    "\n",
    "#turn the 3 concatentated words into a string\n",
    "myList = list(weakPassword) \n",
    "\n",
    "#do your stuff here with a list\n",
    "# use a for loop to examine each item in the list in turn\n",
    "for i in range(len(myList)):\n",
    "    #I/i’s become 1s\n",
    "    #E/e’s become 3s\n",
    "    #S/s’s become 5s\n",
    "\n",
    "#The length of the three words gets added to end\n",
    "\n",
    "#convert the list back into a string\n",
    "strongPassword = \"\".join(myList)"
   ]
  }
 ],
 "metadata": {
  "kernelspec": {
   "display_name": "Python 3",
   "language": "python",
   "name": "python3"
  },
  "language_info": {
   "codemirror_mode": {
    "name": "ipython",
    "version": 3
   },
   "file_extension": ".py",
   "mimetype": "text/x-python",
   "name": "python",
   "nbconvert_exporter": "python",
   "pygments_lexer": "ipython3",
   "version": "3.5.2"
  }
 },
 "nbformat": 4,
 "nbformat_minor": 2
}
